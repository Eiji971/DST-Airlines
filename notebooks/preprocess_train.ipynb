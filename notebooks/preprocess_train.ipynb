{
 "cells": [
  {
   "cell_type": "markdown",
   "metadata": {},
   "source": [
    "<font size=\"6\">**Linear Regression on Lufthansa Flight Arrival Status** </font>\n",
    "\n",
    "<font style=\"Helvetica\">Lufthansa, as one of the leading airlines in Europe, operates a vast network of domestic and international flights, connecting passengers to numerous destinations worldwide. This Jupyter Notebook presents a linear regression model that predicts the arrival status of Lufthansa passenger flights. The model is designed to provide insights into flight arrival delays based on a variety of input features and historical data.\n",
    "\n",
    "The dataset used for training and evaluation contains historical data of Lufthansa passenger flights. It includes information such as flight details, departure/arrival times, and other relevant factors that may affect the arrival status.</font>\n",
    "\n",
    "</br>\n",
    "\n",
    "  <font size=\"4\">**Import packages and dataset** </font>"
   ]
  },
  {
   "cell_type": "code",
   "execution_count": 2,
   "metadata": {},
   "outputs": [],
   "source": [
    "\n",
    "import pandas as pd\n",
    "import numpy as np\n",
    "import warnings\n",
    "warnings.filterwarnings('ignore')\n",
    "from sklearn.model_selection import train_test_split, GridSearchCV, cross_val_score\n",
    "from sklearn.preprocessing import StandardScaler, LabelEncoder, OrdinalEncoder, OneHotEncoder\n",
    "from sklearn.linear_model import LogisticRegression\n",
    "from sklearn.ensemble import RandomForestClassifier, GradientBoostingClassifier\n",
    "from sklearn.metrics import f1_score, classification_report, confusion_matrix, mean_absolute_error, mean_squared_error\n",
    "from sklearn import metrics\n",
    "from sklearn.pipeline import Pipeline\n",
    "from sklearn.compose import ColumnTransformer\n",
    "from sklearn.impute import SimpleImputer\n",
    "import matplotlib.pyplot as plt\n",
    "import seaborn as sns\n",
    "from sklearn.base import clone\n",
    "%matplotlib inline"
   ]
  },
  {
   "cell_type": "code",
   "execution_count": 6,
   "metadata": {},
   "outputs": [
    {
     "data": {
      "text/html": [
       "<div>\n",
       "<style scoped>\n",
       "    .dataframe tbody tr th:only-of-type {\n",
       "        vertical-align: middle;\n",
       "    }\n",
       "\n",
       "    .dataframe tbody tr th {\n",
       "        vertical-align: top;\n",
       "    }\n",
       "\n",
       "    .dataframe thead th {\n",
       "        text-align: right;\n",
       "    }\n",
       "</style>\n",
       "<table border=\"1\" class=\"dataframe\">\n",
       "  <thead>\n",
       "    <tr style=\"text-align: right;\">\n",
       "      <th></th>\n",
       "      <th>DepAirportCode</th>\n",
       "      <th>DepSchedDate</th>\n",
       "      <th>DepSchedTime</th>\n",
       "      <th>DepActualDate</th>\n",
       "      <th>DepActualTime</th>\n",
       "      <th>DepStatusCode</th>\n",
       "      <th>DepStatusDesc</th>\n",
       "      <th>ArrivalAirportCode</th>\n",
       "      <th>ArrSchedDate</th>\n",
       "      <th>ArrSchedTime</th>\n",
       "      <th>ArrActualDate</th>\n",
       "      <th>ArrActualTime</th>\n",
       "      <th>ArrStatusCode</th>\n",
       "      <th>ArrStatusDesc</th>\n",
       "      <th>OpAirlineID</th>\n",
       "      <th>OpFlightNumber</th>\n",
       "      <th>AircraftCode</th>\n",
       "      <th>MarkAirlineID</th>\n",
       "      <th>MarkFlightNumber</th>\n",
       "    </tr>\n",
       "  </thead>\n",
       "  <tbody>\n",
       "    <tr>\n",
       "      <th>0</th>\n",
       "      <td>HAJ</td>\n",
       "      <td>2023-07-06</td>\n",
       "      <td>10:45</td>\n",
       "      <td>2023-07-06</td>\n",
       "      <td>10:52</td>\n",
       "      <td>DP</td>\n",
       "      <td>Flight Departed</td>\n",
       "      <td>CGN</td>\n",
       "      <td>2023-07-06</td>\n",
       "      <td>11:48</td>\n",
       "      <td>2023-07-06</td>\n",
       "      <td>11:55</td>\n",
       "      <td>LD</td>\n",
       "      <td>Flight Landed</td>\n",
       "      <td>LH</td>\n",
       "      <td>53</td>\n",
       "      <td>320</td>\n",
       "      <td>NaN</td>\n",
       "      <td>NaN</td>\n",
       "    </tr>\n",
       "    <tr>\n",
       "      <th>1</th>\n",
       "      <td>FRA</td>\n",
       "      <td>2023-07-06</td>\n",
       "      <td>06:50</td>\n",
       "      <td>2023-07-06</td>\n",
       "      <td>07:05</td>\n",
       "      <td>DP</td>\n",
       "      <td>Flight Departed</td>\n",
       "      <td>CTA</td>\n",
       "      <td>2023-07-06</td>\n",
       "      <td>09:10</td>\n",
       "      <td>2023-07-06</td>\n",
       "      <td>09:26</td>\n",
       "      <td>LD</td>\n",
       "      <td>Flight Landed</td>\n",
       "      <td>LH</td>\n",
       "      <td>306</td>\n",
       "      <td>32A</td>\n",
       "      <td>NH</td>\n",
       "      <td>5875.0</td>\n",
       "    </tr>\n",
       "    <tr>\n",
       "      <th>2</th>\n",
       "      <td>CTA</td>\n",
       "      <td>2023-07-06</td>\n",
       "      <td>10:10</td>\n",
       "      <td>2023-07-06</td>\n",
       "      <td>10:14</td>\n",
       "      <td>DP</td>\n",
       "      <td>Flight Departed</td>\n",
       "      <td>FRA</td>\n",
       "      <td>2023-07-06</td>\n",
       "      <td>12:50</td>\n",
       "      <td>2023-07-06</td>\n",
       "      <td>12:49</td>\n",
       "      <td>LD</td>\n",
       "      <td>Flight Landed</td>\n",
       "      <td>LH</td>\n",
       "      <td>307</td>\n",
       "      <td>32A</td>\n",
       "      <td>NaN</td>\n",
       "      <td>NaN</td>\n",
       "    </tr>\n",
       "    <tr>\n",
       "      <th>3</th>\n",
       "      <td>FRA</td>\n",
       "      <td>2023-07-06</td>\n",
       "      <td>16:05</td>\n",
       "      <td>2023-07-06</td>\n",
       "      <td>16:41</td>\n",
       "      <td>DP</td>\n",
       "      <td>Flight Departed</td>\n",
       "      <td>OLB</td>\n",
       "      <td>2023-07-06</td>\n",
       "      <td>17:55</td>\n",
       "      <td>2023-07-06</td>\n",
       "      <td>18:26</td>\n",
       "      <td>LD</td>\n",
       "      <td>Flight Landed</td>\n",
       "      <td>CL</td>\n",
       "      <td>320</td>\n",
       "      <td>CR9</td>\n",
       "      <td>NaN</td>\n",
       "      <td>NaN</td>\n",
       "    </tr>\n",
       "    <tr>\n",
       "      <th>4</th>\n",
       "      <td>OLB</td>\n",
       "      <td>2023-07-06</td>\n",
       "      <td>18:35</td>\n",
       "      <td>2023-07-06</td>\n",
       "      <td>19:36</td>\n",
       "      <td>DP</td>\n",
       "      <td>Flight Departed</td>\n",
       "      <td>FRA</td>\n",
       "      <td>2023-07-06</td>\n",
       "      <td>20:30</td>\n",
       "      <td>2023-07-06</td>\n",
       "      <td>21:15</td>\n",
       "      <td>LD</td>\n",
       "      <td>Flight Landed</td>\n",
       "      <td>CL</td>\n",
       "      <td>321</td>\n",
       "      <td>CR9</td>\n",
       "      <td>NaN</td>\n",
       "      <td>NaN</td>\n",
       "    </tr>\n",
       "  </tbody>\n",
       "</table>\n",
       "</div>"
      ],
      "text/plain": [
       "  DepAirportCode DepSchedDate DepSchedTime DepActualDate DepActualTime  \\\n",
       "0            HAJ   2023-07-06        10:45    2023-07-06         10:52   \n",
       "1            FRA   2023-07-06        06:50    2023-07-06         07:05   \n",
       "2            CTA   2023-07-06        10:10    2023-07-06         10:14   \n",
       "3            FRA   2023-07-06        16:05    2023-07-06         16:41   \n",
       "4            OLB   2023-07-06        18:35    2023-07-06         19:36   \n",
       "\n",
       "  DepStatusCode    DepStatusDesc ArrivalAirportCode ArrSchedDate ArrSchedTime  \\\n",
       "0            DP  Flight Departed                CGN   2023-07-06        11:48   \n",
       "1            DP  Flight Departed                CTA   2023-07-06        09:10   \n",
       "2            DP  Flight Departed                FRA   2023-07-06        12:50   \n",
       "3            DP  Flight Departed                OLB   2023-07-06        17:55   \n",
       "4            DP  Flight Departed                FRA   2023-07-06        20:30   \n",
       "\n",
       "  ArrActualDate ArrActualTime ArrStatusCode  ArrStatusDesc OpAirlineID  \\\n",
       "0    2023-07-06         11:55            LD  Flight Landed          LH   \n",
       "1    2023-07-06         09:26            LD  Flight Landed          LH   \n",
       "2    2023-07-06         12:49            LD  Flight Landed          LH   \n",
       "3    2023-07-06         18:26            LD  Flight Landed          CL   \n",
       "4    2023-07-06         21:15            LD  Flight Landed          CL   \n",
       "\n",
       "   OpFlightNumber AircraftCode MarkAirlineID  MarkFlightNumber  \n",
       "0              53          320           NaN               NaN  \n",
       "1             306          32A            NH            5875.0  \n",
       "2             307          32A           NaN               NaN  \n",
       "3             320          CR9           NaN               NaN  \n",
       "4             321          CR9           NaN               NaN  "
      ]
     },
     "execution_count": 6,
     "metadata": {},
     "output_type": "execute_result"
    }
   ],
   "source": [
    "df = pd.read_csv('/Users/emerybosc/DST-Airlines/data/flight_statusTot2023-07-06.csv')\n",
    "df.head()"
   ]
  },
  {
   "cell_type": "markdown",
   "metadata": {},
   "source": [
    "</br>\n",
    "\n",
    "<font size=\"4\">**Check basic info about the data set and missing values**</font>"
   ]
  },
  {
   "cell_type": "code",
   "execution_count": 3,
   "metadata": {},
   "outputs": [
    {
     "name": "stdout",
     "output_type": "stream",
     "text": [
      "<class 'pandas.core.frame.DataFrame'>\n",
      "RangeIndex: 1073 entries, 0 to 1072\n",
      "Data columns (total 19 columns):\n",
      " #   Column              Non-Null Count  Dtype  \n",
      "---  ------              --------------  -----  \n",
      " 0   DepAirportCode      1073 non-null   object \n",
      " 1   DepSchedDate        1073 non-null   object \n",
      " 2   DepSchedTime        1073 non-null   object \n",
      " 3   DepActualDate       276 non-null    object \n",
      " 4   DepActualTime       996 non-null    object \n",
      " 5   DepStatusCode       1073 non-null   object \n",
      " 6   DepStatusDesc       1073 non-null   object \n",
      " 7   ArrivalAirportCode  1073 non-null   object \n",
      " 8   ArrSchedDate        1073 non-null   object \n",
      " 9   ArrSchedTime        1073 non-null   object \n",
      " 10  ArrActualDate       1034 non-null   object \n",
      " 11  ArrActualTime       1034 non-null   object \n",
      " 12  ArrStatusCode       1073 non-null   object \n",
      " 13  ArrStatusDesc       1073 non-null   object \n",
      " 14  OpAirlineID         1073 non-null   object \n",
      " 15  OpFlightNumber      1073 non-null   int64  \n",
      " 16  AircraftCode        1073 non-null   object \n",
      " 17  MarkAirlineID       77 non-null     object \n",
      " 18  MarkFlightNumber    77 non-null     float64\n",
      "dtypes: float64(1), int64(1), object(17)\n",
      "memory usage: 159.4+ KB\n"
     ]
    }
   ],
   "source": [
    "df.info(verbose=True)"
   ]
  },
  {
   "cell_type": "code",
   "execution_count": 4,
   "metadata": {},
   "outputs": [
    {
     "data": {
      "text/plain": [
       "DepAirportCode          0\n",
       "DepSchedDate            0\n",
       "DepSchedTime            0\n",
       "DepActualDate         797\n",
       "DepActualTime          77\n",
       "DepStatusCode           0\n",
       "DepStatusDesc           0\n",
       "ArrivalAirportCode      0\n",
       "ArrSchedDate            0\n",
       "ArrSchedTime            0\n",
       "ArrActualDate          39\n",
       "ArrActualTime          39\n",
       "ArrStatusCode           0\n",
       "ArrStatusDesc           0\n",
       "OpAirlineID             0\n",
       "OpFlightNumber          0\n",
       "AircraftCode            0\n",
       "MarkAirlineID         996\n",
       "MarkFlightNumber      996\n",
       "dtype: int64"
      ]
     },
     "execution_count": 4,
     "metadata": {},
     "output_type": "execute_result"
    }
   ],
   "source": [
    "df.isna().sum()"
   ]
  },
  {
   "cell_type": "code",
   "execution_count": 5,
   "metadata": {},
   "outputs": [
    {
     "data": {
      "text/plain": [
       "Flight Landed     724\n",
       "Flight On Time    194\n",
       "Flight Delayed     91\n",
       "No Status          39\n",
       "Flight Early       25\n",
       "Name: ArrStatusDesc, dtype: int64"
      ]
     },
     "metadata": {},
     "output_type": "display_data"
    },
    {
     "data": {
      "text/plain": [
       "Flight Departed    881\n",
       "Flight On Time     115\n",
       "No Status           39\n",
       "Flight Delayed      38\n",
       "Name: DepStatusDesc, dtype: int64"
      ]
     },
     "metadata": {},
     "output_type": "display_data"
    }
   ],
   "source": [
    "display(df['ArrStatusDesc'].value_counts()) \n",
    "display(df['DepStatusDesc'].value_counts()) "
   ]
  },
  {
   "cell_type": "markdown",
   "metadata": {},
   "source": [
    "<font size=\"4\">**DataFrame Preprocessing**</font>"
   ]
  },
  {
   "cell_type": "markdown",
   "metadata": {},
   "source": [
    "As we saw above, the data provided by the dataframe aren't really accurate for most of them with evasive term like 'Flight Landed' or 'Flight Departed' that don't really inform us about the actual status of the plane. Fortunately we have access to the exact hour the plane departed and arrived along side the scheduled arrival and departure time.\n",
    "We have all the necessary information to reattribute the Arrival and Depart Status category ourselves."
   ]
  },
  {
   "cell_type": "code",
   "execution_count": 6,
   "metadata": {},
   "outputs": [],
   "source": [
    "df['ArrStatus'] = pd.NA  # Initialize the Status column with missing values\n",
    "\n",
    "# Compare the columns and update the Status column\n",
    "df.loc[df['ArrSchedTime'] > df['ArrActualTime'], 'ArrStatus'] = 'Flight Arrive Late'\n",
    "df.loc[df['ArrSchedTime'] < df['ArrActualTime'], 'ArrStatus'] = 'Flight Arrive Early'\n",
    "df.loc[df['ArrSchedTime'] == df['ArrActualTime'], 'ArrStatus'] = 'Flight Arrive On Time'\n",
    "\n",
    "df['DepartStatus'] = pd.NA  # Initialize the Status column with missing values\n",
    "\n",
    "# Compare the columns and update the Status column\n",
    "df.loc[df['DepSchedTime'] > df['DepActualTime'], 'DepartStatus'] = 'Flight Depart Late'\n",
    "df.loc[df['DepSchedTime'] < df['DepActualTime'], 'DepartStatus'] = 'Flight Depart Early'\n",
    "df.loc[df['DepSchedTime'] == df['DepActualTime'], 'DepartStatus'] = 'Flight Depart On Time'\n"
   ]
  },
  {
   "cell_type": "code",
   "execution_count": 8,
   "metadata": {},
   "outputs": [
    {
     "data": {
      "text/plain": [
       "Flight Depart Early      734\n",
       "Flight Depart On Time    139\n",
       "Flight Depart Late       123\n",
       "Name: DepartStatus, dtype: int64"
      ]
     },
     "metadata": {},
     "output_type": "display_data"
    },
    {
     "data": {
      "text/plain": [
       "Flight Arrive Early      633\n",
       "Flight Arrive Late       259\n",
       "Flight Arrive On Time    142\n",
       "Name: ArrStatus, dtype: int64"
      ]
     },
     "metadata": {},
     "output_type": "display_data"
    }
   ],
   "source": [
    "display(df['DepartStatus'].value_counts()) \n",
    "display(df['ArrStatus'].value_counts()) "
   ]
  },
  {
   "cell_type": "code",
   "execution_count": 7,
   "metadata": {},
   "outputs": [],
   "source": [
    "\n",
    "df_clean = df.drop(['DepSchedDate', 'DepActualDate', 'ArrSchedDate', 'ArrActualDate', 'DepStatusDesc', \n",
    "                    'DepStatusCode', 'MarkFlightNumber', 'OpFlightNumber', 'ArrStatusDesc',\n",
    "                    'ArrStatusCode', 'MarkAirlineID', 'DepActualTime', 'ArrActualTime'], axis=1)"
   ]
  },
  {
   "cell_type": "code",
   "execution_count": 8,
   "metadata": {},
   "outputs": [],
   "source": [
    "df_clean[['Dephours', 'Depminutes']] = df_clean['DepSchedTime'].str.split(':', expand=True).astype(int)\n",
    "df_clean[['Arrhours', 'Arrminutes']] = df_clean['ArrSchedTime'].str.split(':', expand=True).astype(int)\n",
    "df_clean.drop(['DepSchedTime', 'ArrSchedTime'], axis=1, inplace=True)"
   ]
  },
  {
   "cell_type": "code",
   "execution_count": 9,
   "metadata": {},
   "outputs": [],
   "source": [
    "df_clean['DepartStatus'] = df_clean['DepartStatus'].astype(str)\n",
    "df_clean['ArrStatus'] = df_clean['ArrStatus'].astype(str)\n",
    "df_clean['AircraftCode'] = df_clean['AircraftCode'].astype(str)\n",
    "df_clean['OpAirlineID'] = df_clean['OpAirlineID'].astype(str)\n",
    "df_clean['ArrivalAirportCode'] = df_clean['ArrivalAirportCode'].astype(str)\n",
    "df_clean['DepAirportCode'] = df_clean['DepAirportCode'].astype(str)"
   ]
  },
  {
   "cell_type": "code",
   "execution_count": 50,
   "metadata": {},
   "outputs": [
    {
     "data": {
      "text/plain": [
       "Flight Depart Early      734\n",
       "Flight Depart On Time    139\n",
       "Flight Depart Late       123\n",
       "<NA>                      77\n",
       "Name: DepartStatus, dtype: int64"
      ]
     },
     "metadata": {},
     "output_type": "display_data"
    },
    {
     "data": {
      "text/plain": [
       "Flight Arrive Early      633\n",
       "Flight Arrive Late       259\n",
       "Flight Arrive On Time    142\n",
       "<NA>                      39\n",
       "Name: ArrStatus, dtype: int64"
      ]
     },
     "metadata": {},
     "output_type": "display_data"
    }
   ],
   "source": [
    "display(df_clean['DepartStatus'].value_counts()) \n",
    "display(df_clean['ArrStatus'].value_counts()) "
   ]
  },
  {
   "cell_type": "markdown",
   "metadata": {},
   "source": [
    "<font size=\"4\">**Exploratory analysis and plots**</font>\n",
    "\n",
    "</br>\n",
    "\n",
    "<font size=\"3\">**Check the relative size of the different Flight Arrival Status**</font>"
   ]
  },
  {
   "cell_type": "code",
   "execution_count": 10,
   "metadata": {},
   "outputs": [
    {
     "data": {
      "text/plain": [
       "<Axes: xlabel='ArrStatus', ylabel='count'>"
      ]
     },
     "execution_count": 10,
     "metadata": {},
     "output_type": "execute_result"
    },
    {
     "data": {
      "image/png": "[encoded data removed]",
      "text/plain": [
       "<Figure size 640x480 with 1 Axes>"
      ]
     },
     "metadata": {},
     "output_type": "display_data"
    }
   ],
   "source": [
    "sns.set_style('whitegrid')\n",
    "sns.countplot(x='ArrStatus',data=df_clean,palette='RdBu_r')"
   ]
  },
  {
   "cell_type": "markdown",
   "metadata": {},
   "source": [
    "**Is there any pattern between the departed hours and the arrival status of the flight**"
   ]
  },
  {
   "cell_type": "markdown",
   "metadata": {},
   "source": [
    "Flight that take off between 5 and 8 AM are more likely to be late "
   ]
  },
  {
   "cell_type": "code",
   "execution_count": 15,
   "metadata": {},
   "outputs": [
    {
     "data": {
      "text/plain": [
       "<Axes: xlabel='ArrStatus', ylabel='count'>"
      ]
     },
     "execution_count": 15,
     "metadata": {},
     "output_type": "execute_result"
    },
    {
     "data": {
      "image/png": "[encoded data removed]",
      "text/plain": [
       "<Figure size 640x480 with 1 Axes>"
      ]
     },
     "metadata": {},
     "output_type": "display_data"
    }
   ],
   "source": [
    "sns.set_style('whitegrid')\n",
    "sns.countplot(x='ArrStatus',hue='Dephours',data=df_clean,palette='RdBu_r')"
   ]
  },
  {
   "cell_type": "code",
   "execution_count": 118,
   "metadata": {},
   "outputs": [
    {
     "data": {
      "text/plain": [
       "<Axes: title={'center': 'Distribution of the departure hour'}, xlabel='Hour of the day', ylabel='Count'>"
      ]
     },
     "execution_count": 118,
     "metadata": {},
     "output_type": "execute_result"
    },
    {
     "data": {
      "image/png": "[encoded data removed]",
      "text/plain": [
       "<Figure size 1000x600 with 1 Axes>"
      ]
     },
     "metadata": {},
     "output_type": "display_data"
    }
   ],
   "source": [
    "plt.xlabel(\"Hour of the day\",fontsize=18)\n",
    "plt.ylabel(\"Count\",fontsize=18)\n",
    "plt.title(\"Distribution of the departure hour\",fontsize=22)\n",
    "df_clean['Dephours'].hist(bins=30,color='darkred',alpha=0.7,figsize=(10,6))"
   ]
  },
  {
   "cell_type": "markdown",
   "metadata": {},
   "source": [
    "<font size=\"4\">**Logistic Regression model fit and prediction**</font>"
   ]
  },
  {
   "cell_type": "code",
   "execution_count": 74,
   "metadata": {},
   "outputs": [],
   "source": [
    "feats = df_clean.drop(\"ArrStatus\", axis = 1)\n",
    "target = df_clean[\"ArrStatus\"]\n",
    "\n",
    "X_train, X_test, y_train, y_test = train_test_split(feats, target, test_size = 0.2, random_state = 42)\n",
    "num_train = X_train[[\"Dephours\", \"Depminutes\", \"Arrhours\", \"Arrminutes\"]]\n",
    "num_test = X_test[[\"Dephours\", \"Depminutes\", \"Arrhours\", \"Arrminutes\"]]\n",
    "\n",
    "cat_train = X_train[[\"DepAirportCode\", \"ArrivalAirportCode\", \"OpAirlineID\", \"AircraftCode\", \"DepartStatus\"]]\n",
    "cat_test = X_test[[\"DepAirportCode\", \"ArrivalAirportCode\", \"OpAirlineID\", \"AircraftCode\", \"DepartStatus\"]]"
   ]
  },
  {
   "cell_type": "code",
   "execution_count": 75,
   "metadata": {},
   "outputs": [],
   "source": [
    "imp_cat = SimpleImputer(missing_values = np.nan, strategy = \"most_frequent\")\n",
    "\n",
    "cat_train= imp_cat.fit_transform(cat_train)\n",
    "cat_test = imp_cat.transform(cat_test)\n"
   ]
  },
  {
   "cell_type": "code",
   "execution_count": 76,
   "metadata": {},
   "outputs": [
    {
     "data": {
      "text/plain": [
       "Flight Arrive Early      633\n",
       "Flight Arrive Late       259\n",
       "Flight Arrive On Time    142\n",
       "<NA>                      39\n",
       "Name: ArrStatus, dtype: int64"
      ]
     },
     "metadata": {},
     "output_type": "display_data"
    },
    {
     "data": {
      "text/plain": [
       "LH    915\n",
       "CL    119\n",
       "EN     24\n",
       "4Y      8\n",
       "OS      7\n",
       "Name: OpAirlineID, dtype: int64"
      ]
     },
     "metadata": {},
     "output_type": "display_data"
    },
    {
     "data": {
      "text/plain": [
       "319    145\n",
       "321    106\n",
       "320     95\n",
       "32A     94\n",
       "CR9     90\n",
       "333     79\n",
       "343     66\n",
       "74H     64\n",
       "32Q     46\n",
       "359     43\n",
       "32N     41\n",
       "32M     40\n",
       "E90     37\n",
       "78S     35\n",
       "346     32\n",
       "744     17\n",
       "E95     16\n",
       "35S     12\n",
       "388     12\n",
       "33Y      2\n",
       "31K      1\n",
       "Name: AircraftCode, dtype: int64"
      ]
     },
     "metadata": {},
     "output_type": "display_data"
    }
   ],
   "source": [
    "df_clean.isna().sum()\n",
    "display(df_clean['ArrStatus'].value_counts()) \n",
    "display(df_clean['OpAirlineID'].value_counts()) \n",
    "display(df_clean['AircraftCode'].value_counts()) "
   ]
  },
  {
   "cell_type": "code",
   "execution_count": 77,
   "metadata": {},
   "outputs": [],
   "source": [
    "oe = OrdinalEncoder(categories=[[\"Flight Depart Early\", \"Flight Depart On Time\", \"Flight Depart Late\"]], handle_unknown='use_encoded_value', unknown_value=np.nan)\n",
    "\n",
    "cat_train = oe.fit_transform(X_train[['DepartStatus']])\n",
    "\n",
    "cat_test = oe.transform(X_test[['DepartStatus']])\n",
    "\n",
    "# Update the \"DepartStatus\" column in the training set\n",
    "X_train['DepartStatus'] = cat_train\n",
    "\n",
    "\n",
    "X_test['DepartStatus'] = cat_test"
   ]
  },
  {
   "cell_type": "code",
   "execution_count": 78,
   "metadata": {},
   "outputs": [
    {
     "name": "stdout",
     "output_type": "stream",
     "text": [
      "     DepAirportCode ArrivalAirportCode OpAirlineID AircraftCode  DepartStatus  \\\n",
      "1041            FRA                BOS          LH          343           NaN   \n",
      "1071            BAH                RUH          LH          333           2.0   \n",
      "243             FCO                FRA          LH          321           0.0   \n",
      "801             FRA                ABV          LH          343           0.0   \n",
      "884             FMO                FRA          CL          CR9           2.0   \n",
      "...             ...                ...         ...          ...           ...   \n",
      "330             MUC                ORD          LH          359           0.0   \n",
      "466             FRA                BRE          LH          319           1.0   \n",
      "121             FRA                HAM          LH          320           0.0   \n",
      "1044            BOS                FRA          LH          343           1.0   \n",
      "860             BER                FRA          LH          32Q           0.0   \n",
      "\n",
      "      Dephours  Depminutes  Arrhours  Arrminutes  \n",
      "1041        13          25        16           5  \n",
      "1071        23          45         1           5  \n",
      "243         14          55        16          50  \n",
      "801         11          15        16          20  \n",
      "884         14          35        15          25  \n",
      "...        ...         ...       ...         ...  \n",
      "330          9          25        11          55  \n",
      "466         21          25        22          20  \n",
      "121         20          30        21          40  \n",
      "1044        22           0        11          15  \n",
      "860          9          45        10          55  \n",
      "\n",
      "[858 rows x 9 columns]\n",
      "     DepAirportCode ArrivalAirportCode OpAirlineID AircraftCode  DepartStatus  \\\n",
      "992             FRA                BLQ          LH          319           0.0   \n",
      "746             DTW                FRA          LH          78S           0.0   \n",
      "1067            FRA                CAI          LH          321           0.0   \n",
      "425             FRA                JNB          LH          74H           1.0   \n",
      "490             BER                FRA          LH          321           1.0   \n",
      "...             ...                ...         ...          ...           ...   \n",
      "634             BRE                FRA          LH          319           0.0   \n",
      "486             BER                FRA          LH          321           0.0   \n",
      "298             FRA                FDH          CL          CR9           0.0   \n",
      "582             FCO                FRA          LH          32M           0.0   \n",
      "576             FRA                FCO          LH          32A           0.0   \n",
      "\n",
      "      Dephours  Depminutes  Arrhours  Arrminutes  \n",
      "992         16          10        17          30  \n",
      "746         15          45         5          35  \n",
      "1067        10          15        15          20  \n",
      "425         22           5         8          30  \n",
      "490         18          45        19          55  \n",
      "...        ...         ...       ...         ...  \n",
      "634         18          30        19          30  \n",
      "486         11          45        12          55  \n",
      "298         13          15        14           0  \n",
      "582         14          55        16          50  \n",
      "576         15          55        17          45  \n",
      "\n",
      "[215 rows x 9 columns]\n"
     ]
    }
   ],
   "source": [
    "print(X_train)\n",
    "print(X_test)"
   ]
  },
  {
   "cell_type": "code",
   "execution_count": 79,
   "metadata": {},
   "outputs": [],
   "source": [
    "imputer = SimpleImputer(strategy='most_frequent')\n",
    "\n",
    "\n",
    "cat_train = imputer.fit_transform(X_train[['DepartStatus']])\n",
    "\n",
    "cat_test = imputer.transform(X_test[['DepartStatus']])\n",
    "\n",
    "\n",
    "X_train['DepartStatus'] = cat_train\n",
    "X_test['DepartStatus'] = cat_test"
   ]
  },
  {
   "cell_type": "code",
   "execution_count": 80,
   "metadata": {},
   "outputs": [],
   "source": [
    "label_encoder = LabelEncoder()\n",
    "\n",
    "y_train = label_encoder.fit_transform(y_train)\n",
    "\n",
    "y_test = label_encoder.transform(y_test)"
   ]
  },
  {
   "cell_type": "code",
   "execution_count": 81,
   "metadata": {},
   "outputs": [
    {
     "name": "stdout",
     "output_type": "stream",
     "text": [
      "Dimensions du tableau d'entraînement : (858, 5)\n",
      "Dimensions du tableau de test : (215, 5)\n"
     ]
    }
   ],
   "source": [
    "X_train = np.concatenate((num_train, cat_train), axis=1)\n",
    "\n",
    "X_test = np.concatenate((num_test, cat_test), axis=1)\n",
    "\n",
    "\n",
    "print(\"Dimensions du tableau d'entraînement :\", X_train.shape)\n",
    "print(\"Dimensions du tableau de test :\", X_test.shape)"
   ]
  },
  {
   "cell_type": "code",
   "execution_count": 82,
   "metadata": {},
   "outputs": [
    {
     "data": {
      "text/html": [
       "<style>#sk-container-id-4 {color: black;background-color: white;}#sk-container-id-4 pre{padding: 0;}#sk-container-id-4 div.sk-toggleable {background-color: white;}#sk-container-id-4 label.sk-toggleable__label {cursor: pointer;display: block;width: 100%;margin-bottom: 0;padding: 0.3em;box-sizing: border-box;text-align: center;}#sk-container-id-4 label.sk-toggleable__label-arrow:before {content: \"▸\";float: left;margin-right: 0.25em;color: #696969;}#sk-container-id-4 label.sk-toggleable__label-arrow:hover:before {color: black;}#sk-container-id-4 div.sk-estimator:hover label.sk-toggleable__label-arrow:before {color: black;}#sk-container-id-4 div.sk-toggleable__content {max-height: 0;max-width: 0;overflow: hidden;text-align: left;background-color: #f0f8ff;}#sk-container-id-4 div.sk-toggleable__content pre {margin: 0.2em;color: black;border-radius: 0.25em;background-color: #f0f8ff;}#sk-container-id-4 input.sk-toggleable__control:checked~div.sk-toggleable__content {max-height: 200px;max-width: 100%;overflow: auto;}#sk-container-id-4 input.sk-toggleable__control:checked~label.sk-toggleable__label-arrow:before {content: \"▾\";}#sk-container-id-4 div.sk-estimator input.sk-toggleable__control:checked~label.sk-toggleable__label {background-color: #d4ebff;}#sk-container-id-4 div.sk-label input.sk-toggleable__control:checked~label.sk-toggleable__label {background-color: #d4ebff;}#sk-container-id-4 input.sk-hidden--visually {border: 0;clip: rect(1px 1px 1px 1px);clip: rect(1px, 1px, 1px, 1px);height: 1px;margin: -1px;overflow: hidden;padding: 0;position: absolute;width: 1px;}#sk-container-id-4 div.sk-estimator {font-family: monospace;background-color: #f0f8ff;border: 1px dotted black;border-radius: 0.25em;box-sizing: border-box;margin-bottom: 0.5em;}#sk-container-id-4 div.sk-estimator:hover {background-color: #d4ebff;}#sk-container-id-4 div.sk-parallel-item::after {content: \"\";width: 100%;border-bottom: 1px solid gray;flex-grow: 1;}#sk-container-id-4 div.sk-label:hover label.sk-toggleable__label {background-color: #d4ebff;}#sk-container-id-4 div.sk-serial::before {content: \"\";position: absolute;border-left: 1px solid gray;box-sizing: border-box;top: 0;bottom: 0;left: 50%;z-index: 0;}#sk-container-id-4 div.sk-serial {display: flex;flex-direction: column;align-items: center;background-color: white;padding-right: 0.2em;padding-left: 0.2em;position: relative;}#sk-container-id-4 div.sk-item {position: relative;z-index: 1;}#sk-container-id-4 div.sk-parallel {display: flex;align-items: stretch;justify-content: center;background-color: white;position: relative;}#sk-container-id-4 div.sk-item::before, #sk-container-id-4 div.sk-parallel-item::before {content: \"\";position: absolute;border-left: 1px solid gray;box-sizing: border-box;top: 0;bottom: 0;left: 50%;z-index: -1;}#sk-container-id-4 div.sk-parallel-item {display: flex;flex-direction: column;z-index: 1;position: relative;background-color: white;}#sk-container-id-4 div.sk-parallel-item:first-child::after {align-self: flex-end;width: 50%;}#sk-container-id-4 div.sk-parallel-item:last-child::after {align-self: flex-start;width: 50%;}#sk-container-id-4 div.sk-parallel-item:only-child::after {width: 0;}#sk-container-id-4 div.sk-dashed-wrapped {border: 1px dashed gray;margin: 0 0.4em 0.5em 0.4em;box-sizing: border-box;padding-bottom: 0.4em;background-color: white;}#sk-container-id-4 div.sk-label label {font-family: monospace;font-weight: bold;display: inline-block;line-height: 1.2em;}#sk-container-id-4 div.sk-label-container {text-align: center;}#sk-container-id-4 div.sk-container {/* jupyter's `normalize.less` sets `[hidden] { display: none; }` but bootstrap.min.css set `[hidden] { display: none !important; }` so we also need the `!important` here to be able to override the default hidden behavior on the sphinx rendered scikit-learn.org. See: https://github.com/scikit-learn/scikit-learn/issues/21755 */display: inline-block !important;position: relative;}#sk-container-id-4 div.sk-text-repr-fallback {display: none;}</style><div id=\"sk-container-id-4\" class=\"sk-top-container\"><div class=\"sk-text-repr-fallback\"><pre>LogisticRegression(max_iter=4400, random_state=42)</pre><b>In a Jupyter environment, please rerun this cell to show the HTML representation or trust the notebook. <br />On GitHub, the HTML representation is unable to render, please try loading this page with nbviewer.org.</b></div><div class=\"sk-container\" hidden><div class=\"sk-item\"><div class=\"sk-estimator sk-toggleable\"><input class=\"sk-toggleable__control sk-hidden--visually\" id=\"sk-estimator-id-4\" type=\"checkbox\" checked><label for=\"sk-estimator-id-4\" class=\"sk-toggleable__label sk-toggleable__label-arrow\">LogisticRegression</label><div class=\"sk-toggleable__content\"><pre>LogisticRegression(max_iter=4400, random_state=42)</pre></div></div></div></div></div>"
      ],
      "text/plain": [
       "LogisticRegression(max_iter=4400, random_state=42)"
      ]
     },
     "execution_count": 82,
     "metadata": {},
     "output_type": "execute_result"
    }
   ],
   "source": [
    "lr = LogisticRegression(max_iter = 4400, random_state = 42)\n",
    "\n",
    "lr.fit(X_train, y_train)"
   ]
  },
  {
   "cell_type": "code",
   "execution_count": 87,
   "metadata": {},
   "outputs": [
    {
     "name": "stdout",
     "output_type": "stream",
     "text": [
      "              precision    recall  f1-score   support\n",
      "\n",
      "           0       0.00      0.00      0.00         9\n",
      "           1       0.72      0.95      0.82       124\n",
      "           2       0.74      0.33      0.46        51\n",
      "           3       0.79      0.71      0.75        31\n",
      "\n",
      "    accuracy                           0.73       215\n",
      "   macro avg       0.56      0.50      0.51       215\n",
      "weighted avg       0.70      0.73      0.69       215\n",
      "\n"
     ]
    },
    {
     "data": {
      "text/html": [
       "<div>\n",
       "<style scoped>\n",
       "    .dataframe tbody tr th:only-of-type {\n",
       "        vertical-align: middle;\n",
       "    }\n",
       "\n",
       "    .dataframe tbody tr th {\n",
       "        vertical-align: top;\n",
       "    }\n",
       "\n",
       "    .dataframe thead th {\n",
       "        text-align: right;\n",
       "    }\n",
       "</style>\n",
       "<table border=\"1\" class=\"dataframe\">\n",
       "  <thead>\n",
       "    <tr style=\"text-align: right;\">\n",
       "      <th></th>\n",
       "      <th>Predicted Class 0</th>\n",
       "      <th>Predicted Class 1</th>\n",
       "      <th>Predicted Class 2</th>\n",
       "      <th>Predicted Class 3</th>\n",
       "    </tr>\n",
       "  </thead>\n",
       "  <tbody>\n",
       "    <tr>\n",
       "      <th>Class 0</th>\n",
       "      <td>0</td>\n",
       "      <td>9</td>\n",
       "      <td>0</td>\n",
       "      <td>0</td>\n",
       "    </tr>\n",
       "    <tr>\n",
       "      <th>Class 1</th>\n",
       "      <td>0</td>\n",
       "      <td>118</td>\n",
       "      <td>3</td>\n",
       "      <td>3</td>\n",
       "    </tr>\n",
       "    <tr>\n",
       "      <th>Class 2</th>\n",
       "      <td>0</td>\n",
       "      <td>31</td>\n",
       "      <td>17</td>\n",
       "      <td>3</td>\n",
       "    </tr>\n",
       "    <tr>\n",
       "      <th>Class 3</th>\n",
       "      <td>0</td>\n",
       "      <td>6</td>\n",
       "      <td>3</td>\n",
       "      <td>22</td>\n",
       "    </tr>\n",
       "  </tbody>\n",
       "</table>\n",
       "</div>"
      ],
      "text/plain": [
       "         Predicted Class 0  Predicted Class 1  Predicted Class 2  \\\n",
       "Class 0                  0                  9                  0   \n",
       "Class 1                  0                118                  3   \n",
       "Class 2                  0                 31                 17   \n",
       "Class 3                  0                  6                  3   \n",
       "\n",
       "         Predicted Class 3  \n",
       "Class 0                  0  \n",
       "Class 1                  3  \n",
       "Class 2                  3  \n",
       "Class 3                 22  "
      ]
     },
     "execution_count": 87,
     "metadata": {},
     "output_type": "execute_result"
    }
   ],
   "source": [
    "y_lr_pred = lr.predict(X_test)\n",
    "\n",
    "print(classification_report(y_test, y_lr_pred))\n",
    "cm = confusion_matrix(y_test, y_lr_pred)\n",
    "\n",
    "# Convert the confusion matrix array into a DataFrame\n",
    "cm_df = pd.DataFrame(cm, index=['Class 0', 'Class 1', 'Class 2', 'Class 3'], columns=['Predicted Class 0', 'Predicted Class 1', 'Predicted Class 2', 'Predicted Class 3'])\n",
    "\n",
    "# Display the confusion matrix DataFrame\n",
    "cm_df"
   ]
  },
  {
   "cell_type": "code",
   "execution_count": 59,
   "metadata": {},
   "outputs": [
    {
     "name": "stdout",
     "output_type": "stream",
     "text": [
      "Score train set : 0.7599067599067599\n",
      "Score test set : 0.7302325581395349\n"
     ]
    }
   ],
   "source": [
    "print(\"Score train set :\", lr.score(X_train,y_train))\n",
    "print(\"Score test set :\", lr.score(X_test,y_test))"
   ]
  },
  {
   "cell_type": "code",
   "execution_count": 60,
   "metadata": {},
   "outputs": [
    {
     "name": "stdout",
     "output_type": "stream",
     "text": [
      "Mean absolute error (MAE): 0.3116279069767442\n",
      "Mean square error (MSE): 0.3953488372093023\n",
      "Root mean square error (RMSE): 0.6287677132370127\n"
     ]
    }
   ],
   "source": [
    "print(\"Mean absolute error (MAE):\", metrics.mean_absolute_error(y_test,y_lr_pred))\n",
    "print(\"Mean square error (MSE):\", metrics.mean_squared_error(y_test,y_lr_pred))\n",
    "print(\"Root mean square error (RMSE):\", np.sqrt(metrics.mean_squared_error(y_test,y_lr_pred)))"
   ]
  },
  {
   "cell_type": "code",
   "execution_count": 84,
   "metadata": {},
   "outputs": [
    {
     "name": "stdout",
     "output_type": "stream",
     "text": [
      "R-squared value of predictions: 0.364\n"
     ]
    }
   ],
   "source": [
    "print(\"R-squared value of predictions:\",round(metrics.r2_score(y_test,y_lr_pred),3))"
   ]
  },
  {
   "cell_type": "markdown",
   "metadata": {},
   "source": [
    "<font size=\"4\">**Random Forest Classifier model fit and prediction**</font>\n",
    "\n",
    "Based on the confusion matrix, classification report and other metrics available, we can see that the model isn't as performant as it should be so we're going to try another model and parameter to see if we can boost those performance"
   ]
  },
  {
   "cell_type": "code",
   "execution_count": 92,
   "metadata": {},
   "outputs": [
    {
     "name": "stdout",
     "output_type": "stream",
     "text": [
      "              precision    recall  f1-score   support\n",
      "\n",
      "           0       0.33      0.11      0.17         9\n",
      "           1       0.78      0.93      0.85       124\n",
      "           2       0.74      0.55      0.63        51\n",
      "           3       0.93      0.81      0.86        31\n",
      "\n",
      "    accuracy                           0.79       215\n",
      "   macro avg       0.69      0.60      0.63       215\n",
      "weighted avg       0.77      0.79      0.77       215\n",
      "\n"
     ]
    },
    {
     "data": {
      "text/html": [
       "<div>\n",
       "<style scoped>\n",
       "    .dataframe tbody tr th:only-of-type {\n",
       "        vertical-align: middle;\n",
       "    }\n",
       "\n",
       "    .dataframe tbody tr th {\n",
       "        vertical-align: top;\n",
       "    }\n",
       "\n",
       "    .dataframe thead th {\n",
       "        text-align: right;\n",
       "    }\n",
       "</style>\n",
       "<table border=\"1\" class=\"dataframe\">\n",
       "  <thead>\n",
       "    <tr style=\"text-align: right;\">\n",
       "      <th></th>\n",
       "      <th>Predicted Class 0</th>\n",
       "      <th>Predicted Class 1</th>\n",
       "      <th>Predicted Class 2</th>\n",
       "      <th>Predicted Class 3</th>\n",
       "    </tr>\n",
       "  </thead>\n",
       "  <tbody>\n",
       "    <tr>\n",
       "      <th>Class 0</th>\n",
       "      <td>1</td>\n",
       "      <td>8</td>\n",
       "      <td>0</td>\n",
       "      <td>0</td>\n",
       "    </tr>\n",
       "    <tr>\n",
       "      <th>Class 1</th>\n",
       "      <td>1</td>\n",
       "      <td>115</td>\n",
       "      <td>8</td>\n",
       "      <td>0</td>\n",
       "    </tr>\n",
       "    <tr>\n",
       "      <th>Class 2</th>\n",
       "      <td>0</td>\n",
       "      <td>21</td>\n",
       "      <td>28</td>\n",
       "      <td>2</td>\n",
       "    </tr>\n",
       "    <tr>\n",
       "      <th>Class 3</th>\n",
       "      <td>1</td>\n",
       "      <td>3</td>\n",
       "      <td>2</td>\n",
       "      <td>25</td>\n",
       "    </tr>\n",
       "  </tbody>\n",
       "</table>\n",
       "</div>"
      ],
      "text/plain": [
       "         Predicted Class 0  Predicted Class 1  Predicted Class 2  \\\n",
       "Class 0                  1                  8                  0   \n",
       "Class 1                  1                115                  8   \n",
       "Class 2                  0                 21                 28   \n",
       "Class 3                  1                  3                  2   \n",
       "\n",
       "         Predicted Class 3  \n",
       "Class 0                  0  \n",
       "Class 1                  0  \n",
       "Class 2                  2  \n",
       "Class 3                 25  "
      ]
     },
     "execution_count": 92,
     "metadata": {},
     "output_type": "execute_result"
    }
   ],
   "source": [
    "from sklearn.ensemble import RandomForestClassifier\n",
    "from sklearn.model_selection import GridSearchCV\n",
    "\n",
    "rf = RandomForestClassifier(random_state=42)\n",
    "\n",
    "param_grid = {\n",
    "    'n_estimators': [100, 200, 300],\n",
    "    'max_depth': [None, 5, 10],\n",
    "    'min_samples_split': [2, 5, 10]\n",
    "}\n",
    "\n",
    "# Perform grid search to find the best hyperparameters\n",
    "grid_search = GridSearchCV(estimator=rf, param_grid=param_grid, cv=5)\n",
    "grid_search.fit(X_train, y_train)\n",
    "\n",
    "# Get the best model and its hyperparameters\n",
    "best_model = grid_search.best_estimator_\n",
    "best_params = grid_search.best_params_\n",
    "\n",
    "# Make predictions on the test data using the best model\n",
    "y_rf_pred = best_model.predict(X_test)\n",
    "\n",
    "# Print classification report\n",
    "print(classification_report(y_test, y_rf_pred))\n",
    "\n",
    "# Calculate the confusion matrix\n",
    "cm = confusion_matrix(y_test, y_rf_pred)\n",
    "\n",
    "# Convert the confusion matrix array into a DataFrame\n",
    "cm_df = pd.DataFrame(cm, index=['Class 0', 'Class 1', 'Class 2', 'Class 3'], columns=['Predicted Class 0', 'Predicted Class 1', 'Predicted Class 2', 'Predicted Class 3'])\n",
    "\n",
    "# Display the confusion matrix DataFrame\n",
    "cm_df"
   ]
  },
  {
   "cell_type": "code",
   "execution_count": 94,
   "metadata": {},
   "outputs": [
    {
     "name": "stdout",
     "output_type": "stream",
     "text": [
      "Score train set: 0.9044289044289044\n",
      "Score test set: 0.786046511627907\n",
      "R-squared value of predictions: 0.529\n",
      "Mean absolute error (MAE): 0.2372093023255814\n",
      "Mean squared error (MSE): 0.2930232558139535\n",
      "Root mean square error (RMSE): 0.5413162253377904\n"
     ]
    }
   ],
   "source": [
    "from sklearn.metrics import classification_report, confusion_matrix, mean_absolute_error, mean_squared_error\n",
    "print(\"Score train set:\", best_model.score(X_train, y_train))\n",
    "print(\"Score test set:\", best_model.score(X_test, y_test))\n",
    "\n",
    "# Calculate and print evaluation metrics\n",
    "print(\"R-squared value of predictions:\", round(metrics.r2_score(y_test, y_rf_pred), 3))\n",
    "print(\"Mean absolute error (MAE):\", mean_absolute_error(y_test, y_rf_pred))\n",
    "print(\"Mean squared error (MSE):\", mean_squared_error(y_test, y_rf_pred))\n",
    "print(\"Root mean square error (RMSE):\", np.sqrt(mean_squared_error(y_test, y_rf_pred)))\n"
   ]
  },
  {
   "cell_type": "code",
   "execution_count": 95,
   "metadata": {},
   "outputs": [
    {
     "name": "stdout",
     "output_type": "stream",
     "text": [
      "Best Hyperparameters:\n",
      "max_depth: 10\n",
      "min_samples_split: 2\n",
      "n_estimators: 300\n"
     ]
    }
   ],
   "source": [
    "print(\"Best Hyperparameters:\")\n",
    "for param, value in best_params.items():\n",
    "    print(f\"{param}: {value}\")"
   ]
  },
  {
   "cell_type": "markdown",
   "metadata": {},
   "source": [
    "The following cell can take up to an hour to run (recommanded to skip it and just play the next cell with the resulting parameters)"
   ]
  },
  {
   "cell_type": "code",
   "execution_count": 105,
   "metadata": {},
   "outputs": [
    {
     "name": "stdout",
     "output_type": "stream",
     "text": [
      "Best Parameters: {'learning_rate': 0.05, 'max_depth': 5, 'max_features': 'sqrt', 'min_samples_leaf': 1, 'min_samples_split': 2, 'n_estimators': 100, 'subsample': 0.8}\n",
      "Best Score: 0.831014551883585\n"
     ]
    }
   ],
   "source": [
    "from sklearn.ensemble import GradientBoostingClassifier\n",
    "from sklearn.model_selection import GridSearchCV\n",
    "\n",
    "# Define the parameter grid\n",
    "param_grid = {\n",
    "    'n_estimators': [100, 200, 300],  # Number of boosting stages\n",
    "    'learning_rate': [0.1, 0.05, 0.01],  # Shrinkage factor\n",
    "    'max_depth': [3, 4, 5],  # Maximum depth of each tree\n",
    "    'subsample': [0.8, 1.0],  # Fraction of samples used for training\n",
    "    'min_samples_split': [2, 4],  # Minimum number of samples required to split an internal node\n",
    "    'min_samples_leaf': [1, 2],  # Minimum number of samples required to be at a leaf node\n",
    "    'max_features': ['sqrt', 'log2']  # Number of features to consider for the best split\n",
    "}\n",
    "\n",
    "# Create the Gradient Boosting classifier\n",
    "gb = GradientBoostingClassifier(random_state=42)\n",
    "\n",
    "# Perform grid search\n",
    "grid_search = GridSearchCV(estimator=gb, param_grid=param_grid, cv=5)\n",
    "grid_search.fit(X_train, y_train)\n",
    "\n",
    "# Print the best parameters and best score\n",
    "print(\"Best Parameters:\", grid_search.best_params_)\n",
    "print(\"Best Score:\", grid_search.best_score_)\n",
    "\n"
   ]
  },
  {
   "cell_type": "code",
   "execution_count": 110,
   "metadata": {},
   "outputs": [
    {
     "name": "stdout",
     "output_type": "stream",
     "text": [
      "              precision    recall  f1-score   support\n",
      "\n",
      "           0       0.40      0.22      0.29         9\n",
      "           1       0.78      0.91      0.84       124\n",
      "           2       0.72      0.55      0.62        51\n",
      "           3       0.93      0.81      0.86        31\n",
      "\n",
      "    accuracy                           0.78       215\n",
      "   macro avg       0.71      0.62      0.65       215\n",
      "weighted avg       0.77      0.78      0.77       215\n",
      "\n",
      "[[  9   0   0   0]\n",
      " [  0 124   0   0]\n",
      " [  0   0  51   0]\n",
      " [  0   0   0  31]]\n"
     ]
    },
    {
     "data": {
      "text/html": [
       "<div>\n",
       "<style scoped>\n",
       "    .dataframe tbody tr th:only-of-type {\n",
       "        vertical-align: middle;\n",
       "    }\n",
       "\n",
       "    .dataframe tbody tr th {\n",
       "        vertical-align: top;\n",
       "    }\n",
       "\n",
       "    .dataframe thead th {\n",
       "        text-align: right;\n",
       "    }\n",
       "</style>\n",
       "<table border=\"1\" class=\"dataframe\">\n",
       "  <thead>\n",
       "    <tr style=\"text-align: right;\">\n",
       "      <th></th>\n",
       "      <th>Predicted Class 0</th>\n",
       "      <th>Predicted Class 1</th>\n",
       "      <th>Predicted Class 2</th>\n",
       "      <th>Predicted Class 3</th>\n",
       "    </tr>\n",
       "  </thead>\n",
       "  <tbody>\n",
       "    <tr>\n",
       "      <th>Class 0</th>\n",
       "      <td>2</td>\n",
       "      <td>7</td>\n",
       "      <td>0</td>\n",
       "      <td>0</td>\n",
       "    </tr>\n",
       "    <tr>\n",
       "      <th>Class 1</th>\n",
       "      <td>2</td>\n",
       "      <td>113</td>\n",
       "      <td>9</td>\n",
       "      <td>0</td>\n",
       "    </tr>\n",
       "    <tr>\n",
       "      <th>Class 2</th>\n",
       "      <td>0</td>\n",
       "      <td>21</td>\n",
       "      <td>28</td>\n",
       "      <td>2</td>\n",
       "    </tr>\n",
       "    <tr>\n",
       "      <th>Class 3</th>\n",
       "      <td>1</td>\n",
       "      <td>3</td>\n",
       "      <td>2</td>\n",
       "      <td>25</td>\n",
       "    </tr>\n",
       "  </tbody>\n",
       "</table>\n",
       "</div>"
      ],
      "text/plain": [
       "         Predicted Class 0  Predicted Class 1  Predicted Class 2  \\\n",
       "Class 0                  2                  7                  0   \n",
       "Class 1                  2                113                  9   \n",
       "Class 2                  0                 21                 28   \n",
       "Class 3                  1                  3                  2   \n",
       "\n",
       "         Predicted Class 3  \n",
       "Class 0                  0  \n",
       "Class 1                  0  \n",
       "Class 2                  2  \n",
       "Class 3                 25  "
      ]
     },
     "execution_count": 110,
     "metadata": {},
     "output_type": "execute_result"
    }
   ],
   "source": [
    "\n",
    "\n",
    "rf = RandomForestClassifier(random_state=42, n_estimators=300, min_samples_split=2, max_depth=10)\n",
    "gb = GradientBoostingClassifier(random_state=42, learning_rate=0.05, max_depth=5, max_features='sqrt', min_samples_leaf=1, min_samples_split=2, n_estimators=100, subsample=0.8)\n",
    "\n",
    "# Fit the base models on the training data\n",
    "rf.fit(X_train, y_train)\n",
    "gb.fit(X_train, y_train)\n",
    "\n",
    "# Make predictions on the test data using the base models\n",
    "y_rf_pred = rf.predict(X_test)\n",
    "y_gb_pred = gb.predict(X_test)\n",
    "\n",
    "# Perform model blending\n",
    "y_blend_pred = np.round((y_rf_pred + y_gb_pred) / 2)\n",
    "\n",
    "# Print classification report\n",
    "print(classification_report(y_test, y_blend_pred))\n",
    "\n",
    "# Calculate the confusion matrix\n",
    "cm = confusion_matrix(y_test, y_blend_pred)\n",
    "\n",
    "# Convert the confusion matrix array into a DataFrame\n",
    "cm_df = pd.DataFrame(cm, index=['Class 0', 'Class 1', 'Class 2', 'Class 3'], columns=['Predicted Class 0', 'Predicted Class 1', 'Predicted Class 2', 'Predicted Class 3'])\n",
    "print(confusion_matrix(y_test, y_test))\n",
    "# Display the confusion matrix DataFrame\n",
    "cm_df"
   ]
  },
  {
   "cell_type": "code",
   "execution_count": 109,
   "metadata": {},
   "outputs": [
    {
     "name": "stdout",
     "output_type": "stream",
     "text": [
      "Blend Accuracy: 0.7813953488372093\n",
      "Blend Precision: [0.4        0.78472222 0.71794872 0.92592593]\n",
      "Blend Recall: [0.22222222 0.91129032 0.54901961 0.80645161]\n",
      "Blend F1-Score: [0.28571429 0.84328358 0.62222222 0.86206897]\n"
     ]
    }
   ],
   "source": [
    "from sklearn.metrics import accuracy_score, precision_score, recall_score, f1_score\n",
    "\n",
    "# Perform model blending\n",
    "y_blend_pred = np.round((y_rf_pred + y_gb_pred) / 2)\n",
    "\n",
    "# Calculate blend accuracy\n",
    "blend_accuracy = accuracy_score(y_test, y_blend_pred)\n",
    "\n",
    "# Calculate blend precision, recall, and F1-score for each class\n",
    "blend_precision = precision_score(y_test, y_blend_pred, average=None)\n",
    "blend_recall = recall_score(y_test, y_blend_pred, average=None)\n",
    "blend_f1_score = f1_score(y_test, y_blend_pred, average=None)\n",
    "\n",
    "# Print blend scores and metrics\n",
    "print(\"Blend Accuracy:\", blend_accuracy)\n",
    "print(\"Blend Precision:\", blend_precision)\n",
    "print(\"Blend Recall:\", blend_recall)\n",
    "print(\"Blend F1-Score:\", blend_f1_score)"
   ]
  },
  {
   "cell_type": "code",
   "execution_count": 107,
   "metadata": {},
   "outputs": [
    {
     "name": "stdout",
     "output_type": "stream",
     "text": [
      "Cross-validation Scores - Random Forest:\n",
      "[0.84302326 0.74418605 0.85465116 0.81871345 0.88888889]\n",
      "Mean Cross-validation Score - Random Forest: 0.829892560859513\n",
      "Cross-validation Scores - Gradient Boosting:\n",
      "[0.84883721 0.75581395 0.87790698 0.80116959 0.87134503]\n",
      "Mean Cross-validation Score - Gradient Boosting: 0.831014551883585\n"
     ]
    }
   ],
   "source": [
    "cv_scores_rf = cross_val_score(rf, X_train, y_train, cv=5)\n",
    "cv_scores_gb = cross_val_score(gb, X_train, y_train, cv=5)\n",
    "\n",
    "# Print cross-validation scores\n",
    "print(\"Cross-validation Scores - Random Forest:\")\n",
    "print(cv_scores_rf)\n",
    "print(\"Mean Cross-validation Score - Random Forest:\", np.mean(cv_scores_rf))\n",
    "\n",
    "print(\"Cross-validation Scores - Gradient Boosting:\")\n",
    "print(cv_scores_gb)\n",
    "print(\"Mean Cross-validation Score - Gradient Boosting:\", np.mean(cv_scores_gb))\n"
   ]
  },
  {
   "cell_type": "code",
   "execution_count": 108,
   "metadata": {},
   "outputs": [
    {
     "name": "stdout",
     "output_type": "stream",
     "text": [
      "Score train set - Random Forest: 0.9044289044289044\n",
      "Score test set - Random Forest: 0.786046511627907\n",
      "Score train set - Gradient Boosting: 0.9055944055944056\n",
      "Score test set - Gradient Boosting: 0.7813953488372093\n",
      "Mean absolute error (MAE) - Random Forest: 0.2372093023255814\n",
      "Mean squared error (MSE) - Random Forest: 0.2930232558139535\n",
      "Root mean square error (RMSE) - Random Forest: 0.5413162253377904\n",
      "Mean absolute error (MAE) - Gradient Boosting: 0.2372093023255814\n",
      "Mean squared error (MSE) - Gradient Boosting: 0.2744186046511628\n",
      "Root mean square error (RMSE) - Gradient Boosting: 0.5238497920694087\n"
     ]
    }
   ],
   "source": [
    "print(\"Score train set - Random Forest:\", rf.score(X_train, y_train))\n",
    "print(\"Score test set - Random Forest:\", rf.score(X_test, y_test))\n",
    "\n",
    "print(\"Score train set - Gradient Boosting:\", gb.score(X_train, y_train))\n",
    "print(\"Score test set - Gradient Boosting:\", gb.score(X_test, y_test))\n",
    "\n",
    "# Calculate and print evaluation metrics\n",
    "print(\"Mean absolute error (MAE) - Random Forest:\", mean_absolute_error(y_test, y_rf_pred))\n",
    "print(\"Mean squared error (MSE) - Random Forest:\", mean_squared_error(y_test, y_rf_pred))\n",
    "print(\"Root mean square error (RMSE) - Random Forest:\", np.sqrt(mean_squared_error(y_test, y_rf_pred)))\n",
    "\n",
    "print(\"Mean absolute error (MAE) - Gradient Boosting:\", mean_absolute_error(y_test, y_gb_pred))\n",
    "print(\"Mean squared error (MSE) - Gradient Boosting:\", mean_squared_error(y_test, y_gb_pred))\n",
    "print(\"Root mean square error (RMSE) - Gradient Boosting:\", np.sqrt(mean_squared_error(y_test, y_gb_pred)))"
   ]
  },
  {
   "cell_type": "code",
   "execution_count": null,
   "metadata": {},
   "outputs": [],
   "source": []
  }
 ],
 "metadata": {
  "kernelspec": {
   "display_name": "pysparkenv",
   "language": "python",
   "name": "python3"
  },
  "language_info": {
   "codemirror_mode": {
    "name": "ipython",
    "version": 3
   },
   "file_extension": ".py",
   "mimetype": "text/x-python",
   "name": "python",
   "nbconvert_exporter": "python",
   "pygments_lexer": "ipython3",
   "version": "3.11.3"
  },
  "orig_nbformat": 4
 },
 "nbformat": 4,
 "nbformat_minor": 2
}
